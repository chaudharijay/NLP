{
 "cells": [
  {
   "cell_type": "markdown",
   "metadata": {},
   "source": [
    "## Stemming\n",
    "\n",
    "Stemming is the process of reducing a word to its word stem that affixes to suffixes and prefixes or to the roots of words known as a lemma. Stemming is important in natural language understanding (NLU) and natural language processing(NLP)."
   ]
  },
  {
   "cell_type": "code",
   "execution_count": 1,
   "metadata": {},
   "outputs": [],
   "source": [
    "from nltk.stem import PorterStemmer"
   ]
  },
  {
   "cell_type": "code",
   "execution_count": 3,
   "metadata": {},
   "outputs": [],
   "source": [
    "stemming = PorterStemmer()"
   ]
  },
  {
   "cell_type": "code",
   "execution_count": 27,
   "metadata": {},
   "outputs": [],
   "source": [
    "words = [\"eating\", \"driving\", \"riding\", \"programming\", \"sucking\", \"eats\", \"eaten\", \"writes\",\"history\"]"
   ]
  },
  {
   "cell_type": "code",
   "execution_count": 5,
   "metadata": {},
   "outputs": [
    {
     "name": "stdout",
     "output_type": "stream",
     "text": [
      "eating--->eat\n",
      "driving--->drive\n",
      "riding--->ride\n",
      "programming--->program\n",
      "sucking--->suck\n",
      "eats--->eat\n",
      "eaten--->eaten\n",
      "writes--->write\n"
     ]
    }
   ],
   "source": [
    "for word in words:\n",
    "    print(word + \"--->\"+stemming.stem(word))"
   ]
  },
  {
   "cell_type": "code",
   "execution_count": 8,
   "metadata": {},
   "outputs": [
    {
     "data": {
      "text/plain": [
       "'congratul'"
      ]
     },
     "execution_count": 8,
     "metadata": {},
     "output_type": "execute_result"
    }
   ],
   "source": [
    "#sometimes not correct for some words\n",
    "stemming.stem(\"congratulations\")"
   ]
  },
  {
   "cell_type": "code",
   "execution_count": 9,
   "metadata": {},
   "outputs": [],
   "source": [
    "# Lancaster Stemming Algorithm\n",
    "from nltk.stem import LancasterStemmer"
   ]
  },
  {
   "cell_type": "code",
   "execution_count": 10,
   "metadata": {},
   "outputs": [],
   "source": [
    "lan = LancasterStemmer()"
   ]
  },
  {
   "cell_type": "code",
   "execution_count": 12,
   "metadata": {},
   "outputs": [
    {
     "name": "stdout",
     "output_type": "stream",
     "text": [
      "eating--->eat\n",
      "driving--->driv\n",
      "riding--->rid\n",
      "programming--->program\n",
      "sucking--->suck\n",
      "eats--->eat\n",
      "eaten--->eat\n",
      "writes--->writ\n"
     ]
    }
   ],
   "source": [
    "#not a good choice over PorterStemmer\n",
    "for word in words:\n",
    "    print(word + \"--->\"+lan.stem(word))"
   ]
  },
  {
   "cell_type": "code",
   "execution_count": 13,
   "metadata": {},
   "outputs": [],
   "source": [
    "from nltk.stem import RegexpStemmer"
   ]
  },
  {
   "cell_type": "code",
   "execution_count": 20,
   "metadata": {},
   "outputs": [],
   "source": [
    "#position of $ decides text from start or end\n",
    "reg = RegexpStemmer('ing$|s$|e$|able$', min=4) "
   ]
  },
  {
   "cell_type": "code",
   "execution_count": 22,
   "metadata": {},
   "outputs": [
    {
     "data": {
      "text/plain": [
       "'eaten'"
      ]
     },
     "execution_count": 22,
     "metadata": {},
     "output_type": "execute_result"
    }
   ],
   "source": [
    "reg.stem(\"eating\")\n",
    "reg.stem(\"history\")\n",
    "reg.stem(\"ingplaying\")\n",
    "reg.stem(\"eaten\")"
   ]
  },
  {
   "cell_type": "code",
   "execution_count": 24,
   "metadata": {},
   "outputs": [],
   "source": [
    "# Snowball Stemmer\n",
    "from nltk.stem import SnowballStemmer"
   ]
  },
  {
   "cell_type": "code",
   "execution_count": 25,
   "metadata": {},
   "outputs": [],
   "source": [
    "snow = SnowballStemmer('english', ignore_stopwords=False)"
   ]
  },
  {
   "cell_type": "code",
   "execution_count": 29,
   "metadata": {},
   "outputs": [
    {
     "name": "stdout",
     "output_type": "stream",
     "text": [
      "eating--->eat\n",
      "driving--->drive\n",
      "riding--->ride\n",
      "programming--->program\n",
      "sucking--->suck\n",
      "eats--->eat\n",
      "eaten--->eaten\n",
      "writes--->write\n",
      "history--->histori\n"
     ]
    }
   ],
   "source": [
    "for word in words:\n",
    "    print(word + \"--->\"+snow.stem(word))"
   ]
  },
  {
   "cell_type": "code",
   "execution_count": 31,
   "metadata": {},
   "outputs": [
    {
     "data": {
      "text/plain": [
       "'fair'"
      ]
     },
     "execution_count": 31,
     "metadata": {},
     "output_type": "execute_result"
    }
   ],
   "source": [
    "snow.stem(\"sportingly\")\n",
    "snow.stem(\"fairly\")"
   ]
  },
  {
   "cell_type": "markdown",
   "metadata": {},
   "source": [
    "## Wordnet Lemmatizer\n",
    "Lemmatization technique is like stemming. The output we will get after lemmatization is called 'lemma', which is a root word rather than root stem, the output of stemming. After lemmatization, we will be getting a valid word that means the same thing.\n",
    "\n",
    "NLTK provides WordNetLemmatizer class which is a thin wrapper around the wordnet corpus. This\n",
    "class uses morphy() function to the WordNet CorpusReader class to find a lemma. Let us\n",
    "understand it with an example —\n",
    "\n",
    "#### Lemmatization is different from stemming, which removes prefixes and suffixes to reduce a word to its root form. Lemmatization considers the context and meaning of a word to convert it to a more meaningful format\n"
   ]
  },
  {
   "cell_type": "code",
   "execution_count": 32,
   "metadata": {},
   "outputs": [],
   "source": [
    "from nltk.stem import WordNetLemmatizer\n",
    "lemm = WordNetLemmatizer()"
   ]
  },
  {
   "cell_type": "code",
   "execution_count": 36,
   "metadata": {},
   "outputs": [
    {
     "name": "stdout",
     "output_type": "stream",
     "text": [
      "eating--->eating\n",
      "driving--->driving\n",
      "riding--->riding\n",
      "programming--->programming\n",
      "sucking--->sucking\n",
      "eats--->eats\n",
      "eaten--->eaten\n",
      "writes--->writes\n",
      "history--->history\n"
     ]
    }
   ],
   "source": [
    "for word in words:\n",
    "    print(word+\"--->\"+lemm.lemmatize(word))"
   ]
  },
  {
   "cell_type": "code",
   "execution_count": 38,
   "metadata": {},
   "outputs": [
    {
     "name": "stdout",
     "output_type": "stream",
     "text": [
      "eating--->eat\n",
      "driving--->drive\n",
      "riding--->rid\n",
      "programming--->program\n",
      "sucking--->suck\n",
      "eats--->eat\n",
      "eaten--->eat\n",
      "writes--->write\n",
      "history--->history\n"
     ]
    }
   ],
   "source": [
    "for word in words:\n",
    "    print(word+\"--->\"+lemm.lemmatize(word, pos='v')) #pos = part of speech, here v = verb"
   ]
  },
  {
   "cell_type": "code",
   "execution_count": null,
   "metadata": {},
   "outputs": [],
   "source": [
    "# use cases - \n",
    "# sentiment analysis ---> stemming\n",
    "# Chatbot ---> lemmatizer"
   ]
  }
 ],
 "metadata": {
  "kernelspec": {
   "display_name": "Python 3",
   "language": "python",
   "name": "python3"
  },
  "language_info": {
   "codemirror_mode": {
    "name": "ipython",
    "version": 3
   },
   "file_extension": ".py",
   "mimetype": "text/x-python",
   "name": "python",
   "nbconvert_exporter": "python",
   "pygments_lexer": "ipython3",
   "version": "3.11.0"
  }
 },
 "nbformat": 4,
 "nbformat_minor": 2
}
