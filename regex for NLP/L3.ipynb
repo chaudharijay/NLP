{
 "cells": [
  {
   "cell_type": "markdown",
   "metadata": {},
   "source": [
    "go to regex101.com and find all the patterns"
   ]
  },
  {
   "cell_type": "code",
   "execution_count": 33,
   "metadata": {},
   "outputs": [],
   "source": [
    "import re"
   ]
  },
  {
   "cell_type": "code",
   "execution_count": 34,
   "metadata": {},
   "outputs": [],
   "source": [
    "chat1 = 'codebasics: you ask lot of questions, 1235678912, abc@xyz.com, 7667544532'\n",
    "chat2 = 'codebasics: here it is: (123)-567-8912, abc@xyz.com'\n",
    "chat3 = 'codebasics: yes, phone: 1235678912 email: abc@xyz.com (123)-567-8912'"
   ]
  },
  {
   "cell_type": "code",
   "execution_count": 35,
   "metadata": {},
   "outputs": [],
   "source": [
    "chats1 = 'codebasics: Hello, I am having an issue with my order # 412889912'\n",
    "chats2 = 'codebasics: I have a problem with my order number # 412889912'\n",
    "chats3 = 'codebasics: my order # 412889912 is having an issue, I was charged 300$ when online it says 280$'"
   ]
  },
  {
   "cell_type": "markdown",
   "metadata": {},
   "source": [
    "pattern for phone number"
   ]
  },
  {
   "cell_type": "code",
   "execution_count": 36,
   "metadata": {},
   "outputs": [
    {
     "data": {
      "text/plain": [
       "['1235678912', '7667544532']"
      ]
     },
     "execution_count": 36,
     "metadata": {},
     "output_type": "execute_result"
    }
   ],
   "source": [
    "INpattern = '\\d{10}'\n",
    "matches = re.findall(INpattern, chat1)\n",
    "matches"
   ]
  },
  {
   "cell_type": "code",
   "execution_count": 37,
   "metadata": {},
   "outputs": [
    {
     "data": {
      "text/plain": [
       "['(123)-567-8912']"
      ]
     },
     "execution_count": 37,
     "metadata": {},
     "output_type": "execute_result"
    }
   ],
   "source": [
    "Frpattern = '\\(\\d{3}\\)-\\d{3}-\\d{4}'\n",
    "matches = re.findall(Frpattern, chat2)\n",
    "matches"
   ]
  },
  {
   "cell_type": "code",
   "execution_count": 38,
   "metadata": {},
   "outputs": [
    {
     "data": {
      "text/plain": [
       "['1235678912', '(123)-567-8912']"
      ]
     },
     "execution_count": 38,
     "metadata": {},
     "output_type": "execute_result"
    }
   ],
   "source": [
    "#this or that pattern\n",
    "pattern = '\\d{10}|\\(\\d{3}\\)-\\d{3}-\\d{4}'\n",
    "matches = re.findall(pattern, chat3)\n",
    "matches"
   ]
  },
  {
   "cell_type": "code",
   "execution_count": 39,
   "metadata": {},
   "outputs": [
    {
     "name": "stdout",
     "output_type": "stream",
     "text": [
      "codebasics: you ask lot of questions, 1235678912, abc@xyz.com, 7667544532 \n",
      " codebasics: here it is: (123)-567-8912, abc@xyz.com \n",
      " codebasics: yes, phone: 1235678912 email: abc@xyz.com (123)-567-8912\n"
     ]
    }
   ],
   "source": [
    "print(chat1,\"\\n\", chat2,\"\\n\", chat3)"
   ]
  },
  {
   "cell_type": "markdown",
   "metadata": {},
   "source": [
    "pattern for email"
   ]
  },
  {
   "cell_type": "code",
   "execution_count": 40,
   "metadata": {},
   "outputs": [
    {
     "data": {
      "text/plain": [
       "['abc@xyz.com']"
      ]
     },
     "execution_count": 40,
     "metadata": {},
     "output_type": "execute_result"
    }
   ],
   "source": [
    "# learn these pattern from regex\n",
    "EMpattern = \"[a-z0-9A-Z]*@*[a-z0-9A-Z]*\\.[a-zA-Z]*\"\n",
    "matches = re.findall(EMpattern, chat3)\n",
    "matches"
   ]
  },
  {
   "cell_type": "markdown",
   "metadata": {},
   "source": [
    "for order number"
   ]
  },
  {
   "cell_type": "code",
   "execution_count": 41,
   "metadata": {},
   "outputs": [
    {
     "data": {
      "text/plain": [
       "['412889912']"
      ]
     },
     "execution_count": 41,
     "metadata": {},
     "output_type": "execute_result"
    }
   ],
   "source": [
    "ORpattern = \"order[^\\d]*(\\d*)\"\n",
    "matches = re.findall(ORpattern, chats1)\n",
    "matches\n"
   ]
  },
  {
   "cell_type": "code",
   "execution_count": 42,
   "metadata": {},
   "outputs": [],
   "source": [
    "def get_pattern_match(pattern, text):\n",
    "    matches = re.findall(pattern, text)\n",
    "    if matches:\n",
    "        return matches[0]\n",
    "    \n",
    "get_pattern_match(pattern, chats1)"
   ]
  },
  {
   "cell_type": "code",
   "execution_count": 43,
   "metadata": {},
   "outputs": [],
   "source": [
    "text = '''Order #12345 is ready for pickup!\n",
    "\n",
    "Indian Phone: +91 98765 43210\n",
    "Foreign Phone: +1 123 456 7890\n",
    "Email: [email address removed]\n",
    "\n",
    "Please bring a valid ID.'''"
   ]
  },
  {
   "cell_type": "code",
   "execution_count": 46,
   "metadata": {},
   "outputs": [
    {
     "data": {
      "text/plain": [
       "{'indianno': [], 'foreignno': [], 'email': ['ID.'], 'orderno': []}"
      ]
     },
     "execution_count": 46,
     "metadata": {},
     "output_type": "execute_result"
    }
   ],
   "source": [
    "def get_pattern_match(text):\n",
    "    indianno = re.findall(INpattern, text)\n",
    "    foreginno = re.findall(Frpattern, text)\n",
    "    email = re.findall(EMpattern, text)\n",
    "    orderno  = re.findall(ORpattern, text) \n",
    "\n",
    "    return {\n",
    "        'indianno': indianno,\n",
    "        'foreignno':foreginno,\n",
    "        'email':email,\n",
    "        'orderno':orderno\n",
    "    }\n",
    "\n",
    "\n",
    "get_pattern_match(text)"
   ]
  }
 ],
 "metadata": {
  "kernelspec": {
   "display_name": "Python 3",
   "language": "python",
   "name": "python3"
  },
  "language_info": {
   "codemirror_mode": {
    "name": "ipython",
    "version": 3
   },
   "file_extension": ".py",
   "mimetype": "text/x-python",
   "name": "python",
   "nbconvert_exporter": "python",
   "pygments_lexer": "ipython3",
   "version": "3.11.0"
  }
 },
 "nbformat": 4,
 "nbformat_minor": 2
}
