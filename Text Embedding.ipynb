{
 "cells": [
  {
   "cell_type": "markdown",
   "metadata": {},
   "source": [
    "1) dataset \n",
    "\n",
    "2) Text preprocessing\n",
    "\n",
    "- 1 tokenization \n",
    "- 2 lowercase the words\n",
    "- 3 regular expression\n",
    "\n",
    "3) Text Preprocessing 2\n",
    "\n",
    "- 1 Stemming\n",
    "- 2 lemmatization\n",
    "- 3 stopwords\n",
    "\n",
    "4) Text ---> vectors\n",
    "\n",
    "- one hot encoders\n",
    "- bag of words\n",
    "- TF-IDF\n",
    "- word2vec\n",
    "- Avg word2vec\n",
    "\n",
    "5) Ml algorithms\n",
    "\n",
    "- Supervised"
   ]
  }
 ],
 "metadata": {
  "kernelspec": {
   "display_name": "Python 3",
   "language": "python",
   "name": "python3"
  },
  "language_info": {
   "name": "python",
   "version": "3.11.0"
  }
 },
 "nbformat": 4,
 "nbformat_minor": 2
}
